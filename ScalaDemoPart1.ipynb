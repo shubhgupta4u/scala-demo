{
 "cells": [
  {
   "cell_type": "markdown",
   "metadata": {},
   "source": [
    "## Data Types, Variables"
   ]
  },
  {
   "cell_type": "code",
   "execution_count": null,
   "metadata": {
    "code_folding": []
   },
   "outputs": [],
   "source": [
    "//hello world - scala vs java\n",
    "{\n",
    "    /*\n",
    "\n",
    "    //hello world in Java\n",
    "    class HelloWorld {\n",
    "        public static void main(String[] args) {\n",
    "            System.out.println(\"Hello, World!\"); \n",
    "        }\n",
    "    }*/\n",
    "\n",
    "    //How do we get to say helloworld in scala?\n",
    "    print(\"hello world\")\n",
    "}"
   ]
  },
  {
   "cell_type": "markdown",
   "metadata": {},
   "source": [
    "### Val Vs Var"
   ]
  },
  {
   "cell_type": "code",
   "execution_count": 1,
   "metadata": {
    "code_folding": []
   },
   "outputs": [
    {
     "name": "stdout",
     "output_type": "stream",
     "text": [
      "20\n",
      "21\n"
     ]
    },
    {
     "data": {
      "text/plain": [
       "class java.lang.String"
      ]
     },
     "execution_count": 1,
     "metadata": {},
     "output_type": "execute_result"
    }
   ],
   "source": [
    "//val vs var\n",
    "{\n",
    "\n",
    "    var x = 10 //like final in Java - Value cannot be changed\n",
    "\n",
    "    //try this\n",
    "    x = 11\n",
    "\n",
    "    var p = 20\n",
    "    println(p)\n",
    "\n",
    "    //this is allowed\n",
    "    p = 21\n",
    "    println(p)\n",
    "\n",
    "    p.getClass()\n",
    "\n",
    "    val xy = \"Amit\"\n",
    "    xy.getClass()\n",
    "}\n",
    "//remember, the val makes the reference constant. The object itself can be mutable!\n",
    "//Example: string vs stringbuilder - you will see this later on in collections"
   ]
  },
  {
   "cell_type": "markdown",
   "metadata": {},
   "source": [
    "### Type Inference "
   ]
  },
  {
   "cell_type": "code",
   "execution_count": 2,
   "metadata": {
    "code_folding": []
   },
   "outputs": [
    {
     "name": "stdout",
     "output_type": "stream",
     "text": [
      "10\n",
      "7\n"
     ]
    }
   ],
   "source": [
    "//type inference\n",
    "\n",
    "{\n",
    "var numValue:Int = 10\n",
    "println(numValue)\n",
    "numValue = 7\n",
    "println(numValue)\n",
    "//numValue = \"scala\"\n",
    "}\n",
    "\n",
    "//when you define parameters for a function, you still need to specify a type\n",
    "//convention is varname:Type - stress on coming up with a good name for the variable\n",
    "\n"
   ]
  },
  {
   "cell_type": "markdown",
   "metadata": {},
   "source": [
    "### More on Data Types "
   ]
  },
  {
   "cell_type": "code",
   "execution_count": 11,
   "metadata": {
    "code_folding": []
   },
   "outputs": [
    {
     "name": "stdout",
     "output_type": "stream",
     "text": [
      "int\n",
      "double\n",
      "float\n",
      "double\n",
      "1012\n",
      "22\n"
     ]
    },
    {
     "data": {
      "text/plain": [
       "float"
      ]
     },
     "execution_count": 11,
     "metadata": {},
     "output_type": "execute_result"
    }
   ],
   "source": [
    "//more on datatypes\n",
    "\n",
    "{\n",
    "var numValue = 10\n",
    "println(numValue.getClass)\n",
    "\n",
    "var numValue1 = 10.3\n",
    "println(numValue1.getClass)\n",
    "\n",
    "//What if you want float in for 10.3\n",
    "var numValue2 = 10.3f\n",
    "println(numValue2.getClass)\n",
    "\n",
    "//converting float to a double\n",
    "var dconvert = numValue2.toDouble\n",
    "println(dconvert.getClass)\n",
    "\n",
    "var strnum = \"12\"\n",
    "println(numValue + strnum) //number treated as a string!\n",
    "println(numValue + strnum.toInt)\n",
    "    \n",
    "var dummyvar:Float = 10.3f\n",
    "dummyvar.getClass\n",
    "  \n",
    "}"
   ]
  },
  {
   "cell_type": "code",
   "execution_count": 9,
   "metadata": {},
   "outputs": [
    {
     "data": {
      "text/plain": [
       "Name: Compile Error\n",
       "Message: <console>:23: error: class $iw needs to be abstract, since variable x is not defined\n",
       "(Note that variables need to be initialized to be defined)\n",
       "class $iw extends Serializable {\n",
       "      ^\n",
       "\n",
       "StackTrace: "
      ]
     },
     "execution_count": 9,
     "metadata": {},
     "output_type": "execute_result"
    }
   ],
   "source": [
    "var x:Int"
   ]
  },
  {
   "cell_type": "markdown",
   "metadata": {},
   "source": [
    "### Multiple Expressions in One Line "
   ]
  },
  {
   "cell_type": "code",
   "execution_count": 17,
   "metadata": {
    "code_folding": []
   },
   "outputs": [
    {
     "name": "stdout",
     "output_type": "stream",
     "text": [
      "3\n"
     ]
    },
    {
     "data": {
      "text/plain": [
       "x = 10\n"
      ]
     },
     "metadata": {},
     "output_type": "display_data"
    },
    {
     "data": {
      "text/plain": [
       "ressult2: Unit = ()\n"
      ]
     },
     "metadata": {},
     "output_type": "display_data"
    },
    {
     "data": {
      "text/plain": [
       "10"
      ]
     },
     "execution_count": 17,
     "metadata": {},
     "output_type": "execute_result"
    }
   ],
   "source": [
    "var ressult2 = {var a = 1; var b = 2; println(a + b);}\n",
    "var x = 10"
   ]
  },
  {
   "cell_type": "code",
   "execution_count": null,
   "metadata": {},
   "outputs": [],
   "source": [
    "1."
   ]
  },
  {
   "cell_type": "markdown",
   "metadata": {},
   "source": [
    "### Arithmetic Operators \n"
   ]
  },
  {
   "cell_type": "code",
   "execution_count": 20,
   "metadata": {
    "code_folding": []
   },
   "outputs": [
    {
     "data": {
      "text/plain": [
       "numOne = 3\n",
       "numTwo = 3\n",
       "numThree = 3\n",
       "firstChar = b\n",
       "firstChar1 = b\n",
       "goodq = 3.0\n"
      ]
     },
     "metadata": {},
     "output_type": "display_data"
    },
    {
     "data": {
      "text/plain": [
       "3"
      ]
     },
     "execution_count": 20,
     "metadata": {},
     "output_type": "execute_result"
    }
   ],
   "source": [
    "//The + operator is actually a method - that takes an argument!\n",
    "\n",
    "var numOne = 1+2\n",
    "var numTwo = 1.+(2)\n",
    "var numThree = 1 + 2  //myobj mymethod \"something\"\n",
    "var firstChar = \"abc\" charAt 1\n",
    "var firstChar1 = \"abc\".charAt(1)\n",
    "var goodq = 1.0.+(2) \n",
    "1.+(2)"
   ]
  },
  {
   "cell_type": "markdown",
   "metadata": {},
   "source": [
    "### Logical Operators "
   ]
  },
  {
   "cell_type": "code",
   "execution_count": 4,
   "metadata": {
    "code_folding": []
   },
   "outputs": [
    {
     "data": {
      "text/plain": [
       "TandT = true\n",
       "TandT2 = true\n",
       "FandT3 = false\n",
       "ForT = true\n",
       "ForT2 = true\n",
       "notTrue = false\n",
       "notFalse = true\n"
      ]
     },
     "metadata": {},
     "output_type": "display_data"
    },
    {
     "data": {
      "text/plain": [
       "true"
      ]
     },
     "execution_count": 4,
     "metadata": {},
     "output_type": "execute_result"
    }
   ],
   "source": [
    "//logical ops example\n",
    "\n",
    "    var TandT = true&true\n",
    "    var TandT2 = true.&(true)\n",
    "    //shortcut - evaluates only the first operand to arrive at the result\n",
    "    var FandT3 = false.&&(true) \n",
    "    var ForT = false | true\n",
    "    var ForT2 = false || true\n",
    "    var notTrue = !true\n",
    "    var notFalse = !false\n"
   ]
  },
  {
   "cell_type": "markdown",
   "metadata": {},
   "source": [
    "### The \"++\" operator - Does Not Exist "
   ]
  },
  {
   "cell_type": "code",
   "execution_count": 5,
   "metadata": {
    "code_folding": []
   },
   "outputs": [
    {
     "name": "stdout",
     "output_type": "stream",
     "text": [
      "11\n",
      "9\n",
      "27\n",
      "6\n"
     ]
    }
   ],
   "source": [
    "//The ++\n",
    "{\n",
    "    var i = 1\n",
    "    //i++\n",
    "\n",
    "    //instead..\n",
    "    i += 10\n",
    "    println(i)\n",
    "\n",
    "    i -= 2\n",
    "    println(i)\n",
    "\n",
    "    i *= 3\n",
    "    println(i)\n",
    "\n",
    "    i /= 4\n",
    "    println(i)\n",
    "}"
   ]
  },
  {
   "cell_type": "markdown",
   "metadata": {},
   "source": [
    "### Blocks"
   ]
  },
  {
   "attachments": {
    "image.png": {
     "image/png": "[encoded data removed]"
    }
   },
   "cell_type": "markdown",
   "metadata": {},
   "source": [
    "![image.png](attachment:image.png)"
   ]
  },
  {
   "cell_type": "code",
   "execution_count": null,
   "metadata": {
    "code_folding": []
   },
   "outputs": [],
   "source": [
    "{\n",
    "var result = {var a = 1; var b = 2; a + b}\n",
    "\n",
    "//What happens if the last statement is an assignment?\n",
    "var result1 = {var a = 1; var b = 3; var res = a + b;}\n",
    "}"
   ]
  },
  {
   "cell_type": "markdown",
   "metadata": {},
   "source": [
    "### Lazy Evaluation "
   ]
  },
  {
   "attachments": {
    "image.png": {
     "image/png": "[encoded data removed]"
    }
   },
   "cell_type": "markdown",
   "metadata": {},
   "source": [
    "![image.png](attachment:image.png)"
   ]
  },
  {
   "cell_type": "markdown",
   "metadata": {},
   "source": [
    "** Difference between Val and LazyVal:\n",
    "     + val is Executed when it is defined\n",
    "     + Lazy val is Executed when it is accessed for the first time **"
   ]
  },
  {
   "cell_type": "code",
   "execution_count": 8,
   "metadata": {
    "code_folding": []
   },
   "outputs": [
    {
     "name": "stdout",
     "output_type": "stream",
     "text": [
      "not lazy\n",
      "1\n",
      "lazy\n",
      "2\n"
     ]
    }
   ],
   "source": [
    "{\n",
    "val varOne = {println(\"not lazy\");1}\n",
    "lazy val varTwo = {println(\"lazy\");2}\n",
    "println(varOne)\n",
    "val valThree = 1 + varTwo\n",
    "println(varTwo)\n",
    "}"
   ]
  },
  {
   "cell_type": "markdown",
   "metadata": {},
   "source": [
    "## Control of flow Statements"
   ]
  },
  {
   "cell_type": "markdown",
   "metadata": {},
   "source": [
    "### If Else "
   ]
  },
  {
   "cell_type": "code",
   "execution_count": 12,
   "metadata": {
    "code_folding": []
   },
   "outputs": [
    {
     "name": "stdout",
     "output_type": "stream",
     "text": [
      "adult\n",
      "()\n"
     ]
    }
   ],
   "source": [
    "{\n",
    "var age = 19\n",
    "var minorOrAdult1 = if (age < 18) println(\"minor\") else println(\"adult\")\n",
    "    println(minorOrAdult1)\n",
    "}"
   ]
  },
  {
   "cell_type": "code",
   "execution_count": 18,
   "metadata": {
    "code_folding": []
   },
   "outputs": [
    {
     "data": {
      "text/plain": [
       "age = 18\n"
      ]
     },
     "metadata": {},
     "output_type": "display_data"
    },
    {
     "data": {
      "text/plain": [
       "Minor"
      ]
     },
     "execution_count": 18,
     "metadata": {},
     "output_type": "execute_result"
    }
   ],
   "source": [
    "\n",
    "var age = 18\n",
    "\n",
    "if (age <= 18)\n",
    "   \"Minor\"\n",
    "else if ((age > 18) & (age < 60))\n",
    "   \"Adult\"\n",
    "else\n",
    "   \"Senior Citizen\"\n"
   ]
  },
  {
   "cell_type": "code",
   "execution_count": 15,
   "metadata": {},
   "outputs": [
    {
     "data": {
      "text/plain": [
       "x = 10\n",
       "y = 20\n",
       "z = 90\n"
      ]
     },
     "metadata": {},
     "output_type": "display_data"
    },
    {
     "data": {
      "text/plain": [
       "90"
      ]
     },
     "execution_count": 15,
     "metadata": {},
     "output_type": "execute_result"
    }
   ],
   "source": [
    "val x = 10\n",
    "val y = 20\n",
    "val z = 90"
   ]
  },
  {
   "cell_type": "code",
   "execution_count": null,
   "metadata": {
    "code_folding": []
   },
   "outputs": [],
   "source": [
    "{\n",
    "var x = 9\n",
    "//The return type can be a string or an int!\n",
    "var result = if (x > 0) \"positive\" else 0\n",
    "print(result)\n",
    "result.getClass\n",
    "}"
   ]
  },
  {
   "cell_type": "code",
   "execution_count": 20,
   "metadata": {
    "code_folding": []
   },
   "outputs": [
    {
     "name": "stdout",
     "output_type": "stream",
     "text": [
      "()"
     ]
    }
   ],
   "source": [
    "//Demo of blocks (again!) with if else\n",
    "{\n",
    "    var number = 10\n",
    "    val operation = \"add\"\n",
    "    val result = \n",
    "\n",
    "    if (operation == \"mul\")\n",
    "    {\n",
    "        //multiply 100 to number\n",
    "        val r = 100 * number\n",
    "        //r\n",
    "    }\n",
    "    else\n",
    "    {\n",
    "        //add 100 to number\n",
    "        val r = 100 + 10\n",
    "        //r\n",
    "        \n",
    "    }\n",
    "    print(result)\n",
    "}\n",
    "\n",
    "//A note on \"==\":  You normally use ==, it routes to equals, except that it treats nulls \n",
    "//properly. This means the if two objects have the same empid, for instance, they will be\n",
    "//treated as equal.  Reference equality (rarely used) is eq.\n"
   ]
  },
  {
   "cell_type": "code",
   "execution_count": null,
   "metadata": {
    "code_folding": []
   },
   "outputs": [],
   "source": [
    "//Pattern Matching \n",
    "\n",
    "{\n",
    "     /*\n",
    "    {\n",
    "    def matchTest(x: Int): String = x match {\n",
    "      case 1 => \"one\"\n",
    "      case 2 => \"two\"\n",
    "      case _ => \"many\"\n",
    "    }\n",
    "\n",
    "    matchTest(1)\n",
    "\n",
    "    val age = 1\n",
    "\n",
    "    val status = age match {\n",
    "    case x if (x < 18) => \"Minor\"\n",
    "    case x if (x > 18 & x < 60) => \"Adult\"\n",
    "    case _ => \"Senior Citizen\"\n",
    "    }\n",
    "    print(status)\n",
    "    */\n",
    "\n",
    "    def matchTest(x: Any): Unit = x match {\n",
    "      case _: Int => {println(\"It is an Int\")}\n",
    "      case _: String => {println(\"It is a string\")}\n",
    "      case _ => {println(\"It is something else\")}\n",
    "    }\n",
    "\n",
    "    matchTest(\"scala\")\n",
    "    matchTest(1)\n",
    "    matchTest(3.4)\n",
    "}"
   ]
  },
  {
   "cell_type": "markdown",
   "metadata": {},
   "source": [
    "### Do While (string interpolator thrown in!)"
   ]
  },
  {
   "cell_type": "code",
   "execution_count": 24,
   "metadata": {
    "code_folding": []
   },
   "outputs": [
    {
     "name": "stdout",
     "output_type": "stream",
     "text": [
      "0 time this is printed\n",
      "0 time this is printed\n",
      "1 time this is printed\n",
      "1 time this is printed\n",
      "\n",
      "1 time this is printed\n",
      "2 time this is printed\n",
      "\n",
      "The f Interpolator!\n",
      "James is 1.9 meters tall\n"
     ]
    }
   ],
   "source": [
    "{\n",
    "    var count = 0\n",
    "    do {\n",
    "        println(count + \" time this is printed\")\n",
    "        println(s\"$count time this is printed\");\n",
    "        count += 1\n",
    "    }while(count < 2)\n",
    "\n",
    "    println()\n",
    "\n",
    "\n",
    "    count = 0\n",
    "    do {\n",
    "        println(s\"${count+=1;count} time this is printed\");\n",
    "    }while(count < 2)\n",
    "\n",
    "    println()\n",
    "\n",
    "    println(\"The f Interpolator!\")\n",
    "    val height = 1.9d\n",
    "    val name = \"James\"\n",
    "    println(f\"$name%s is $height%2.1f meters tall\")  \n",
    "}\n",
    "\n",
    "//https://docs.scala-lang.org/overviews/core/string-interpolation.html"
   ]
  },
  {
   "cell_type": "markdown",
   "metadata": {},
   "source": [
    "### For Loop "
   ]
  },
  {
   "cell_type": "code",
   "execution_count": 3,
   "metadata": {
    "code_folding": []
   },
   "outputs": [
    {
     "name": "stdout",
     "output_type": "stream",
     "text": [
      "ABC\n",
      "12345678910\n",
      "11 12 21 22 31 32 \n",
      "11 22 33 44 55 66 77 88 99 110 \n",
      "Value of Count is: 100\n",
      "\n",
      "11 22 33 44 55 66 77 88 99 110 \n",
      "Value of Count now is: 10\n",
      "Vector(2, 4, 6, 8, 10, 12, 14, 16, 18, 20, 22, 24, 26, 28, 30, 32, 34, 36, 38, 40, 42, 44, 46, 48, 50, 52, 54, 56, 58, 60, 62, 64, 66, 68, 70, 72, 74, 76, 78, 80, 82, 84, 86, 88, 90, 92, 94, 96, 98, 100)\n",
      "10 8 6 4 2 "
     ]
    }
   ],
   "source": [
    "{\n",
    "\"abc\".foreach(a => print(a.toUpper))\n",
    "\n",
    "println\n",
    "\n",
    "for(i<- 1 to 10) print(i)\n",
    "\n",
    "println\n",
    "\n",
    "for(i<- 1 to 3; j <- 1 to 2) print(10*i + j + \" \")\n",
    "\n",
    "println\n",
    "\n",
    "//perform the above computation only if i = j\n",
    "var count = 0\n",
    "for(i<- 1 to 10; j <- 1 to 10) { count+= 1; if (i == j) print(10*i + j + \" \") }\n",
    "println\n",
    "println(s\"Value of Count is: $count\")\n",
    "\n",
    "println\n",
    "\n",
    "//Guard Condition\n",
    "count=0;\n",
    "for(i<- 1 to 10; j <- 1 to 10; if i==j) {count += 1;print(10*i + j + \" \")}\n",
    "println\n",
    "println(s\"Value of Count now is: $count\")\n",
    "\n",
    "//Yield condition\n",
    "//Get a list of even numbers from 1 to 100\n",
    "var evenList = for (i <- 1 to 100; if (i % 2 == 0)) yield i\n",
    "println(evenList)\n",
    "\n",
    "//decrementing - look at the use of until - what does it do?\n",
    "for(i <- 10 until 1 by -2) print(i + \" \")\n",
    "    \n",
    "}"
   ]
  }
 ],
 "metadata": {
  "kernelspec": {
   "display_name": "Apache Toree - Scala",
   "language": "scala",
   "name": "apache_toree_scala"
  },
  "language_info": {
   "codemirror_mode": "text/x-scala",
   "file_extension": ".scala",
   "mimetype": "text/x-scala",
   "name": "scala",
   "pygments_lexer": "scala",
   "version": "2.11.8"
  },
  "toc": {
   "base_numbering": 1,
   "nav_menu": {},
   "number_sections": true,
   "sideBar": true,
   "skip_h1_title": false,
   "title_cell": "Table of Contents",
   "title_sidebar": "Contents",
   "toc_cell": false,
   "toc_position": {
    "height": "calc(100% - 180px)",
    "left": "10px",
    "top": "150px",
    "width": "363px"
   },
   "toc_section_display": true,
   "toc_window_display": true
  }
 },
 "nbformat": 4,
 "nbformat_minor": 2
}
