{
 "cells": [
  {
   "cell_type": "markdown",
   "metadata": {},
   "source": [
    "## Functions"
   ]
  },
  {
   "cell_type": "markdown",
   "metadata": {},
   "source": [
    "### Functions - Defining and Calling\n",
    "def functionName (param1:dataType, param2:dataType):returnType = { body of the function; return returnValue}"
   ]
  },
  {
   "cell_type": "code",
   "execution_count": null,
   "metadata": {
    "code_folding": []
   },
   "outputs": [],
   "source": [
    "//Example One\n",
    "\n",
    "{\n",
    "    //function definition one\n",
    "    def addNumbersOne(a:Int, b:Int):Int = {\n",
    "      a + b ; //no return keyword needed\n",
    "    }\n",
    "    println(addNumbersOne(2,3))\n",
    "\n",
    "    //function definition two - Return type inferred\n",
    "    var cnt = 0\n",
    "    def addNumbersTwo(a:Int, b:Int) = {\n",
    "      a + b\n",
    "    }\n",
    "    cnt = addNumbersTwo(2,3)\n",
    "    println(cnt)\n",
    "\n",
    "    // notice the absence of the = sign before {\n",
    "    // nothing returned from the function (a.k.a procedure?)\n",
    "    var count = 0\n",
    "    def addNumbersThree(a:Int, b:Int){\n",
    "      count = a + b\n",
    "    }\n",
    "    addNumbersThree(2,3)\n",
    "    println(count)\n",
    "\n",
    "    //if you just have one expression, you can dispense with the braces too!\n",
    "    def addNumbersFour(a:Int,b:Int) = a + b\n",
    "    println(addNumbersFour(2,3))\n",
    "}"
   ]
  },
  {
   "cell_type": "markdown",
   "metadata": {},
   "source": [
    "### Functions - Default Arguments "
   ]
  },
  {
   "cell_type": "code",
   "execution_count": null,
   "metadata": {
    "code_folding": []
   },
   "outputs": [],
   "source": [
    "//default arguments in functions\n",
    "\n",
    "{\n",
    "def addNumbersSix (a:Int = 2, b:Int = 3) = {\n",
    "  a + b\n",
    "}\n",
    "\n",
    "//can you guess the output?\n",
    "println(addNumbersSix())\n",
    "println(addNumbersSix(5)) \n",
    "println(addNumbersSix(b = 5)) \n",
    "}"
   ]
  },
  {
   "cell_type": "code",
   "execution_count": null,
   "metadata": {
    "code_folding": []
   },
   "outputs": [],
   "source": [
    "// more on functions\n",
    "\n",
    "{\n",
    "    def addNumbersSeven(a:Int = 3, b:Int) = {\n",
    "      a + b\n",
    "    }\n",
    "    println(addNumbersSeven(b=9))\n",
    "\n",
    "    //cannot do this - function expects value for b\n",
    "    //addNumbersSeven(6) //3 applies by default to a\n",
    "\n",
    "    def addNumbersTen(a:Int, b:Int = 3) = a + b\n",
    "\n",
    "    println(addNumbersTen(4))\n",
    "    println(addNumbersTen(4,5))\n",
    "    \n",
    "    addNumbersSeven(5)\n",
    "}"
   ]
  },
  {
   "cell_type": "code",
   "execution_count": null,
   "metadata": {
    "code_folding": []
   },
   "outputs": [],
   "source": [
    "//variable number of arguments\n",
    "\n",
    "\n",
    "\n",
    "def addNumbersEight(numbers:Int*) = {\n",
    "  var sum = 0\n",
    "  numbers.foreach(sum+=_)\n",
    "  sum\n",
    "}\n",
    "println(addNumbersEight(1,2,3,4,5,6,100))\n",
    "\n",
    "//cannot do this!\n",
    "//You can have only one varArgs as a function parameter\n",
    "\n",
    "def addNumbersNine(dummy:String,numbers:Int*) = {\n",
    "  var sum = 0\n",
    "    println(dummy)\n",
    "    numbers.foreach(i => sum += i)\n",
    "  sum\n",
    "}\n",
    "\n",
    "addNumbersNine(\"scala\",1,2,3,4,5)\n",
    "\n",
    "//def addNumbersEleven(numbers1:Int*, numbers2:Int*) = {numbers1.foreach(i => println(i))}\n",
    "\n"
   ]
  },
  {
   "cell_type": "code",
   "execution_count": null,
   "metadata": {},
   "outputs": [],
   "source": [
    "//This illustrates the use of teh _* operator\n",
    "//comes in handy later\n",
    "\n",
    "{\n",
    "    def addNumbersEightA(numbers:Int*) = {\n",
    "      var sum = 0\n",
    "      numbers.foreach(sum+=_)\n",
    "      sum\n",
    "    }\n",
    "\n",
    "\n",
    "    val mybuffer = Array(1,2,3,4,5)\n",
    "    //addNumbersEightA(mybuffer)\n",
    "    \n",
    "    println(s\"sum = ${addNumbersEightA(mybuffer:_*)}\")\n",
    "    println(s\"sum = ${addNumbersEightA(1,2,3,4,5)}\")\n",
    "    \n",
    "}\n"
   ]
  },
  {
   "cell_type": "markdown",
   "metadata": {},
   "source": [
    "### Functions - val/var as input parameter; overloading"
   ]
  },
  {
   "cell_type": "code",
   "execution_count": null,
   "metadata": {
    "code_folding": []
   },
   "outputs": [],
   "source": [
    "//can you change the input paramters to a function?\n",
    "//A best practice in Effective Java?  Implemented in Scala out of the box\n",
    "\n",
    "{\n",
    "    def testFunction (var par1:Int)\n",
    "    {\n",
    "        println(par1)\n",
    "        par1 = 9\n",
    "    }\n",
    "\n",
    "\n",
    "    testFunction(5)\n",
    "}"
   ]
  },
  {
   "cell_type": "code",
   "execution_count": null,
   "metadata": {
    "code_folding": []
   },
   "outputs": [],
   "source": [
    "//parameters to function - can you change them?\n",
    "{\n",
    "    import scala.collection.mutable.ArrayBuffer\n",
    "    \n",
    "    def funcByValOrRef(myb:ArrayBuffer[Int])\n",
    "    {\n",
    "        //change element 1\n",
    "        //myb(0) = 99\n",
    "        \n",
    "        //now, add a new ArrayBuffer\n",
    "        myb ++= ArrayBuffer(4,5,6)\n",
    "        //myb = ArrayBuffer(4,5)\n",
    "    }\n",
    "    \n",
    "    val mybuffer = ArrayBuffer(1,2,3)\n",
    "    funcByValOrRef(mybuffer)\n",
    "    println(mybuffer)\n",
    "}"
   ]
  },
  {
   "cell_type": "code",
   "execution_count": null,
   "metadata": {
    "code_folding": []
   },
   "outputs": [],
   "source": [
    "//scope\n",
    "{\n",
    "var globalvar = 10\n",
    "    \n",
    "def mytestfunc() = {\n",
    "    var globalvar = 20\n",
    "    println(s\"Inside the function: $globalvar\")\n",
    "}\n",
    "\n",
    "mytestfunc\n",
    "println(globalvar)\n",
    "\n",
    "}"
   ]
  },
  {
   "cell_type": "markdown",
   "metadata": {},
   "source": [
    "## Collections - Arrays, ArrayBuffers, Maps, Tuples, Lists"
   ]
  },
  {
   "cell_type": "markdown",
   "metadata": {},
   "source": [
    "### Arrays \n",
    "** Fixed Size Data Stucture that stores homegenous elements (Elements are mutable)**"
   ]
  },
  {
   "cell_type": "code",
   "execution_count": null,
   "metadata": {},
   "outputs": [],
   "source": [
    "//Declaring Arrays\n",
    "var a = new Array[Int](10)"
   ]
  },
  {
   "cell_type": "code",
   "execution_count": null,
   "metadata": {},
   "outputs": [],
   "source": [
    "var s = new Array[String](10)"
   ]
  },
  {
   "cell_type": "code",
   "execution_count": null,
   "metadata": {},
   "outputs": [],
   "source": [
    "var hw = Array(\"hello\",\"world\") //declare + initialize"
   ]
  },
  {
   "cell_type": "code",
   "execution_count": 4,
   "metadata": {
    "code_folding": [],
    "scrolled": true
   },
   "outputs": [
    {
     "name": "stdout",
     "output_type": "stream",
     "text": [
      "0;8;16;24;32;40;48;56;64;72\n",
      "a b c d e f g h i j\n"
     ]
    },
    {
     "data": {
      "text/plain": [
       "[a, b, c, d, e, f, g, h, i, a]"
      ]
     },
     "execution_count": 4,
     "metadata": {},
     "output_type": "execute_result"
    }
   ],
   "source": [
    "//assigning values to array\n",
    "\n",
    "{\n",
    "    //assigning values to array 'a'\n",
    "    var a = new Array[Int](10)\n",
    "    for (i <- 0 until 10) {a(i) = i * 8}\n",
    "    \n",
    "    println(a.mkString(\";\"))\n",
    "    \n",
    "    //println\n",
    "    var s = ('a' to 'j').toArray\n",
    "    //s.foreach(print)\n",
    "    println(s.mkString(\" \"))\n",
    "    \n",
    "    //You can change the value after assignment\n",
    "    s(9) = 'a'\n",
    "    s //You can see the last element changed to 'a'\n",
    "}"
   ]
  },
  {
   "cell_type": "code",
   "execution_count": null,
   "metadata": {
    "code_folding": []
   },
   "outputs": [],
   "source": [
    "//mixing array elements (datatypes)\n",
    "{\n",
    "    //creating an array of odd numbers from 1 to 100\n",
    "    var oddNum = (1 to 100).toArray.filter(_ % 2 != 0)\n",
    "    print(oddNum.mkString(\" \"))\n",
    "\n",
    "    //you can also create this\n",
    "    var studentMarks = Array(1,\"Anurag\",\"Math\",99)\n",
    "}"
   ]
  },
  {
   "cell_type": "code",
   "execution_count": 5,
   "metadata": {
    "code_folding": []
   },
   "outputs": [
    {
     "name": "stdout",
     "output_type": "stream",
     "text": [
      "1 2 3 4 5 6 7 8 9\n",
      "0 2 4 6 8\n"
     ]
    },
    {
     "data": {
      "text/plain": [
       "[foo, foo, foo]"
      ]
     },
     "execution_count": 5,
     "metadata": {},
     "output_type": "execute_result"
    }
   ],
   "source": [
    "//Other ways of creating arrays\n",
    "\n",
    "{\n",
    "    var x1 = Array.range(1, 10)\n",
    "    println(x1.mkString(\" \"))\n",
    "\n",
    "    x1 = Array.range(0, 10, 2)\n",
    "    println(x1.mkString(\" \"))\n",
    "\n",
    "    var  x2 = Array.fill(3)(\"foo\")\n",
    "    x2\n",
    "}"
   ]
  },
  {
   "cell_type": "code",
   "execution_count": 6,
   "metadata": {
    "code_folding": []
   },
   "outputs": [
    {
     "name": "stdout",
     "output_type": "stream",
     "text": [
      "109\n",
      "4\n",
      "6\n"
     ]
    },
    {
     "data": {
      "text/plain": [
       "[109, 90, 87, 56, 4, 4]"
      ]
     },
     "execution_count": 6,
     "metadata": {},
     "output_type": "execute_result"
    }
   ],
   "source": [
    "//some utility functions\n",
    "\n",
    "{\n",
    "    var numArray = Array(109,4,56, 90, 87, 4)\n",
    "    println(numArray.max)\n",
    "    println(numArray.min)\n",
    "    println(numArray.size)\n",
    "    scala.util.Sorting.quickSort(numArray)\n",
    "    var newArray = numArray.clone //copying an array\n",
    "    numArray.sorted.reverse\n",
    "}"
   ]
  },
  {
   "cell_type": "code",
   "execution_count": 15,
   "metadata": {
    "code_folding": []
   },
   "outputs": [
    {
     "name": "stdout",
     "output_type": "stream",
     "text": [
      "1 2 3\n",
      "1 2 3 4 5 6 7 8\n",
      "1 4 3\n",
      "1 4 3 4 5 6 7 8\n",
      "1**2**3**4**5**6**7**8**9**10**11\n"
     ]
    }
   ],
   "source": [
    "//val vs var in Arrays\n",
    "\n",
    "{\n",
    "    val valArray = Array(1,2,3)\n",
    "    var varArray = Array(1,2,3,4,5,6,7,8)\n",
    "    println(valArray.mkString(\" \"))\n",
    "    println(varArray.mkString(\" \"))\n",
    "    //var myarray = (0 to 1000).toArray\n",
    "    //println(myarray.size)\n",
    "    valArray(1) = 4\n",
    "    varArray(1) = 4\n",
    "    println(valArray.mkString(\" \"))\n",
    "    println(varArray.mkString(\" \"))\n",
    "\n",
    "    //valArray = Array(5,6) //Wont be allowed - Reassignment to val\n",
    "    varArray = Array(1,2,3,4,5,6,7,8,9,10,11)\n",
    "    println(varArray.mkString(\"**\"))\n",
    "}"
   ]
  },
  {
   "cell_type": "markdown",
   "metadata": {},
   "source": [
    "### ArrayBuffers"
   ]
  },
  {
   "cell_type": "code",
   "execution_count": 20,
   "metadata": {
    "code_folding": []
   },
   "outputs": [
    {
     "name": "stdout",
     "output_type": "stream",
     "text": [
      "\n",
      "1 2 3 4 5\n",
      "5\n",
      "100 200 300 900 999\n",
      "100 200 300 900 999 54 55 56\n",
      "100 200 300 900 999 54 55\n",
      "100 200 254 300 900 999 54 55\n",
      "100 200 3 4 5 254 300 900 999 54 55\n",
      "100 3 4 5 254 300 900 999 54 55\n",
      "100 3 254 300 900 999 54 55\n",
      "100 3 254 300 900 999\n",
      "100 3 254 300 900 999 3\n",
      "100 254 300 900 999 3\n"
     ]
    },
    {
     "data": {
      "text/plain": [
       "myABuffer = ArrayBuffer(100, 254, 300, 900, 999, 3)\n",
       "myABuffer1 = ArrayBuffer(1, 2, 3, 4, 5)\n"
      ]
     },
     "metadata": {},
     "output_type": "display_data"
    },
    {
     "data": {
      "text/plain": [
       "ArrayBuffer(1, 2, 3, 4, 5)"
      ]
     },
     "execution_count": 20,
     "metadata": {},
     "output_type": "execute_result"
    }
   ],
   "source": [
    "//Size can be changed as also the elements\n",
    "\n",
    "\n",
    "        import scala.collection.mutable.ArrayBuffer\n",
    "\n",
    "        // declaring + initialization\n",
    "        var myABuffer = new ArrayBuffer[Int]()\n",
    "        var myABuffer1 = ArrayBuffer(1,2,3,4,5)\n",
    "\n",
    "        println(myABuffer.mkString(\" \"))\n",
    "        println(myABuffer1.mkString(\" \"))\n",
    "\n",
    "        //adding elements \n",
    "        myABuffer += 100\n",
    "        myABuffer += 200\n",
    "\n",
    "        //if you are using += to add multiple elements, wrap it in ()\n",
    "        //The other alternative to add mutliple elements is to use ++= and use Array()\n",
    "        myABuffer += (300,900,999)\n",
    "        println(myABuffer.size) //number of elements in the array\n",
    "        println(myABuffer.mkString(\" \"))\n",
    "\n",
    "        //adding another Array!\n",
    "        myABuffer ++= Array(54,55,56)\n",
    "        println(myABuffer.mkString(\" \"))\n",
    "\n",
    "        //removing an element\n",
    "        myABuffer --= Array(56)\n",
    "        println(myABuffer.mkString(\" \"))\n",
    "\n",
    "        myABuffer.insert(2,254) //inserts at second location\n",
    "        println(myABuffer.mkString(\" \"))\n",
    "\n",
    "        myABuffer.insert(2,3,4,5) //inserts many elements starting from the second location\n",
    "        println(myABuffer.mkString(\" \"))\n",
    "\n",
    "        myABuffer.remove(1) //removed ele at first location\n",
    "        println(myABuffer.mkString(\" \"))\n",
    "\n",
    "        myABuffer.remove(2,2) //removes 2 elements from the second loc\n",
    "        println(myABuffer.mkString(\" \"))\n",
    "\n",
    "        myABuffer.trimEnd(2) //removes the last two elements\n",
    "        println(myABuffer.mkString(\" \"))\n",
    "\n",
    "        myABuffer += 3\n",
    "        println(myABuffer.mkString(\" \"))\n",
    "    \n",
    "        myABuffer -= 3 //removes one element '3'\n",
    "        println(myABuffer.mkString(\" \"))\n",
    "\n"
   ]
  },
  {
   "cell_type": "code",
   "execution_count": 21,
   "metadata": {
    "code_folding": []
   },
   "outputs": [
    {
     "name": "stdout",
     "output_type": "stream",
     "text": [
      "100 254 300 900 999 3\n",
      "true\n",
      "ArrayBuffer(100, 300, 900)\n",
      "200 508 600 1800 1998 6\n"
     ]
    }
   ],
   "source": [
    "//to see if a value exists in the ArrayBuffer\n",
    "{\n",
    "    println(myABuffer.mkString(\" \"))\n",
    "    println(myABuffer.exists(_ == (300)))\n",
    "\n",
    "    //create an array that holds only elements divisible by 100 in myABuffer\n",
    "    var onlyHundred = for (element <- myABuffer if (element % 100 == 0))  yield element\n",
    "    println(onlyHundred)\n",
    "    \n",
    "    var newBuff = new ArrayBuffer[Int]\n",
    "    myABuffer.foreach(ele => newBuff += ele*2)\n",
    "\n",
    "    println(newBuff.mkString(\" \"))\n",
    "}"
   ]
  },
  {
   "cell_type": "markdown",
   "metadata": {},
   "source": [
    "### Maps (Both Immutable and Mutable Versions)"
   ]
  },
  {
   "cell_type": "code",
   "execution_count": 31,
   "metadata": {
    "code_folding": []
   },
   "outputs": [
    {
     "data": {
      "text/plain": [
       "Name: Unknown Error\n",
       "Message: <console>:65: error: value update is not a member of scala.collection.immutable.Map[Int,String]\n",
       "       m1(1) = \"newstudent\"\n",
       "       ^\n",
       "\n",
       "StackTrace: "
      ]
     },
     "execution_count": 31,
     "metadata": {},
     "output_type": "execute_result"
    }
   ],
   "source": [
    "//create a IMMUTABLE map\n",
    "{\n",
    "\n",
    "var m1 = Map(1 -> \"student11\", 2 -> \"student12\")\n",
    "\n",
    "//The same as:\n",
    "val m3 = Map((1,\"student11\"),(2,\"student12\"))\n",
    "\n",
    "//accessing elements\n",
    "println(m1(1)) //retrieves the first \"value\" - \"student1\" for the key 1\n",
    "\n",
    "//Accessing a key not present\n",
    "//println(m1(45))//key not found! Exception\n",
    "\n",
    "//A better way!\n",
    "println(m1.getOrElse(1,\"Student Not Found\"))\n",
    "println(m1.getOrElse(45,\"Student Not Found\"))\n",
    "\n",
    "//Or Create the map the following way\n",
    "m1 = Map(1 -> \"student11\", 2 -> \"student12\").withDefaultValue(\"Default Value: Student Not Found\")\n",
    "println(\"Result of searching the new map: \" + m1(45))\n",
    "println(\"Result of searching the new map: \" + m1(2))\n",
    "\n",
    "\n",
    "println(m1.get(1)) //alternate access - using options!\n",
    "println(m1.get(45))\n",
    "\n",
    "//cannot do this because map is immutable\n",
    "//m1(1) = \"newvalue\"\n",
    "\n",
    "//declared as var\n",
    "m1 += (3 -> \"student13\")\n",
    "    m1\n",
    "\n",
    "//declared as val\n",
    "//m3 += (3 -> \"student13\")\n",
    "  //  m3\n",
    "  \n",
    "m1(1) = \"newstudent\"\n",
    "}"
   ]
  },
  {
   "cell_type": "code",
   "execution_count": 28,
   "metadata": {
    "code_folding": []
   },
   "outputs": [
    {
     "name": "stdout",
     "output_type": "stream",
     "text": [
      "m2 contains: Map(2 -> student22, 1 -> student21)\n",
      "Getting value or key 1 : student21\n",
      "Student Not Found\n",
      "After adding keys 2 and 5: Map(2 -> student100, 5 -> student25, 1 -> student21)\n",
      "After adding another map: Map(2 -> student12, 5 -> student25, 1 -> student11)\n",
      "After removing element with key 1: Map(2 -> student12, 5 -> student25)\n"
     ]
    },
    {
     "data": {
      "text/plain": [
       "Map(2 -> newstudent, 5 -> student25)"
      ]
     },
     "execution_count": 28,
     "metadata": {},
     "output_type": "execute_result"
    }
   ],
   "source": [
    "//Let us create a MUTABLE map\n",
    "\n",
    "{\n",
    "    import scala.collection.mutable.Map\n",
    "    import scala.io.Source\n",
    "\n",
    "    var m2 = Map(1 -> \"student21\", 2 -> \"student22\")\n",
    "    println(\"m2 contains: \" + m2)\n",
    "\n",
    "    //accessing elements\n",
    "    println(\"Getting value or key 1 : \" + m2(1))\n",
    "    //m2(45)\n",
    "\n",
    "    println(m2.getOrElse(45,\"Student Not Found\"))\n",
    "\n",
    "    //adding a new element now\n",
    "    //m2 already contains keys 1 and 2\n",
    "    //You can see that the earlier value of \"student22\" for key 2 is replaced with \"student100\"\n",
    "    //which is the new value added\n",
    "    m2 += (5 -> \"student25\", 2 -> \"student100\")\n",
    "    println(\"After adding keys 2 and 5: \" + m2)\n",
    "\n",
    "    ////you can concatenate another map (duplicate keys are removed)\n",
    "    val m1 = Map(1 -> \"student11\", 2 -> \"student12\")\n",
    "    m2.++=(m1)\n",
    "    println(\"After adding another map: \" + m2)\n",
    "\n",
    "    //you can remove elements also\n",
    "    m2 -= (1)\n",
    "    println(\"After removing element with key 1: \" + m2)\n",
    "    \n",
    "    //allowed because this map is mutable\n",
    "    m2(2) = \"newstudent\"\n",
    "    m2\n",
    "}"
   ]
  },
  {
   "cell_type": "code",
   "execution_count": null,
   "metadata": {
    "code_folding": []
   },
   "outputs": [],
   "source": [
    "//Iterating through the map\n",
    "//to print both keys and values of all the entries in a map\n",
    "\n",
    "{\n",
    "    var m2 = Map(1 -> \"student21\", 2 -> \"student22\")\n",
    "\n",
    "    m2.keys.foreach{n =>\n",
    "      print(n + \"  \")\n",
    "      println (m2(n))\n",
    "    }\n",
    "\n",
    "    println\n",
    "    println(\"Other way of accessing\")\n",
    "    println\n",
    "\n",
    "    //alternate way of doing the same\n",
    "    for ((k,v) <- m2) println(s\"key is $k and value is $v\")\n",
    "}"
   ]
  },
  {
   "cell_type": "code",
   "execution_count": null,
   "metadata": {
    "code_folding": []
   },
   "outputs": [],
   "source": [
    "//Displaying population for a given country - An example\n",
    "\n",
    "{\n",
    "    import scala.io.Source\n",
    "\n",
    "    val content = Source\n",
    "      .fromFile(\"populationByCountry.txt\")\n",
    "      .getLines.toArray\n",
    "\n",
    "\n",
    "    val mapLookup = \n",
    "    Map(content.map\n",
    "        (sekar => (sekar.split(\"\\t\")(0).toString\n",
    "                   , sekar.split(\"\\t\")(1).toLong)) : _*).withDefaultValue(0L)\n",
    "    println(mapLookup)\n",
    "\n",
    "    println(s\"There are ${mapLookup.size} countries in the file\")\n",
    "    println(mapLookup(\"Argentina\"))\n",
    "    println(mapLookup(\"India\"))\n",
    "\n",
    "    //display all the countries in the Map datastructure\n",
    "    println(mapLookup.keys.mkString(\" \"))\n",
    "\n",
    "    //find the maximum population of the given countries\n",
    "    println(mapLookup.values.max)\n",
    "\n",
    "    //sorting keys\n",
    "    println(mapLookup.keys.toArray.sorted.mkString(\",\"))\n",
    "    \n",
    "    //finding key with the \"max\" value\n",
    "    println(mapLookup.keys.max)\n",
    "    \n",
    "    //find the country with the max population\n",
    "    println(mapLookup.maxBy(_._2))\n",
    "\n",
    "}"
   ]
  },
  {
   "cell_type": "markdown",
   "metadata": {},
   "source": [
    "### Tuples (Immutable) "
   ]
  },
  {
   "cell_type": "code",
   "execution_count": null,
   "metadata": {
    "code_folding": []
   },
   "outputs": [],
   "source": [
    "//tuples combines different values together and you can pass them\n",
    "//around as a whole\n",
    "//matches, innings, not outs, total runs\n",
    "\n",
    "{\n",
    "    val t = (1, \"Virat Kohli\", 64, 108,8,5301)\n",
    "\n",
    "    //access the first element\n",
    "    println(t._1) //access the first element\n",
    "    println(t._2) //access the second element\n",
    "    println(t._3) //access the third element\n",
    "    println(t._4) //access the fourth element\n",
    "    println()\n",
    "    //using the foreach syntax\n",
    "    //print each element of the tuple using an iterator\n",
    "    println(\"Printing tuple elements using an iterator\")\n",
    "    t.productIterator.foreach(i => print(i + \" \"))\n",
    "}"
   ]
  },
  {
   "cell_type": "code",
   "execution_count": null,
   "metadata": {
    "code_folding": []
   },
   "outputs": [],
   "source": [
    "//tuples allow you to return a collection from a method\n",
    "\n",
    "{\n",
    "    def myfunction() ={\n",
    "      val empid = 1; val empname = \"sriram\"; val emplocation = \"bangalore\"\n",
    "      (empid,empname,emplocation)\n",
    "    }\n",
    "\n",
    "    //one way of accessing values\n",
    "    val empdetails = myfunction\n",
    "    print(s\"${empdetails._1} + ${empdetails._2} +   ${empdetails._3}\")\n",
    "\n",
    "    //second way\n",
    "    val(id,name,location) = myfunction()\n",
    "    println(id);println(name);println(location)\n",
    "}"
   ]
  },
  {
   "cell_type": "code",
   "execution_count": null,
   "metadata": {
    "code_folding": []
   },
   "outputs": [],
   "source": [
    "//A practical Example\n",
    "{\n",
    "    import scala.io.Source\n",
    "    { //this flower bracket turns off the output other than explicitly called out by print\n",
    "    val content = Source.\n",
    "      fromFile(\"Batsman.csv\")\n",
    "      .getLines.toArray\n",
    "\n",
    "    def HundredsAndRuns(player:String) = {\n",
    "\n",
    "      val playerRecords = content.\n",
    "        filter(n => (n.split(\"\\t\")(1)).\n",
    "          split(\"#\")(0) == player)\n",
    "\n",
    "        println(playerRecords.mkString(\"\\n\"))\n",
    "\n",
    "      //Number of hundreds across formats\n",
    "      val hundreds = playerRecords.\n",
    "        map(n => n.split(\"\\t\")(6).toInt).sum\n",
    "\n",
    "      //Runs across formats\n",
    "      val runs = playerRecords.\n",
    "        map(line => line.split(\"\\t\")(5).toInt).sum\n",
    "\n",
    "      //Return a tuple\n",
    "      (player,hundreds,runs)\n",
    "    }\n",
    "\n",
    "    val(p,h,r) = HundredsAndRuns(\"RT Ponting\")\n",
    "    println\n",
    "    println(s\"Player: $p  ; Hu ndreds: $h  ;Runs: $r\")\n",
    "    }\n",
    "}"
   ]
  },
  {
   "cell_type": "markdown",
   "metadata": {},
   "source": [
    "## Functions Revisited (A bit of Functional Programming)"
   ]
  },
  {
   "cell_type": "markdown",
   "metadata": {},
   "source": [
    "### Anonymous Functions"
   ]
  },
  {
   "cell_type": "code",
   "execution_count": null,
   "metadata": {
    "code_folding": []
   },
   "outputs": [],
   "source": [
    "//let us say you want to double a number and you write a function\n",
    "\n",
    "{\n",
    "    \n",
    "    def myDouble (num:Int):Int = {\n",
    "        num * 2\n",
    "    }\n",
    "    \n",
    "    //you want to double all the numbers in a collection\n",
    "    var myCol = Array(1,2,3,4,5)\n",
    "    var res1 = myCol.map(myDouble)\n",
    "    println(s\"Doubled Values Array using first method: ${res1.mkString(\" \")}\")\n",
    "\n",
    "    \n",
    "    //An easy way to achieve the same\n",
    "    var res2 = myCol.map(a => a * 2)\n",
    "    println(s\"Doubled Values Array using second method: ${res2.mkString(\" \")}\")\n",
    "\n",
    "    \n",
    "    var myFunc = (m:Int) => m * 2\n",
    "    var res3 = myCol.map(myFunc)\n",
    "    println(s\"Doubled Values Array using third method: ${res3.mkString(\" \")}\")\n",
    "\n",
    "    //you can call myFunc too!\n",
    "    println(myFunc(44))\n",
    "    \n",
    "}"
   ]
  },
  {
   "cell_type": "markdown",
   "metadata": {},
   "source": [
    "### Function assigned to a variable!"
   ]
  },
  {
   "cell_type": "code",
   "execution_count": null,
   "metadata": {
    "code_folding": []
   },
   "outputs": [],
   "source": [
    "//Finding Prime Numbers\n",
    "\n",
    "{\n",
    "    val primeCheck = (i: Int) => {\n",
    "          var flag = 0;\n",
    "          for (index <- 2 to i/2)\n",
    "          {\n",
    "            if (i % index == 0)\n",
    "              flag = 1;\n",
    "          }\n",
    "          if (flag == 1) false else true\n",
    "        }\n",
    "\n",
    "    primeCheck(7)\n",
    "    List.range(1,100).filter(primeCheck)\n",
    "}"
   ]
  },
  {
   "cell_type": "markdown",
   "metadata": {},
   "source": [
    "### Higher Order Functions"
   ]
  },
  {
   "cell_type": "code",
   "execution_count": null,
   "metadata": {
    "code_folding": []
   },
   "outputs": [],
   "source": [
    "//Example One\n",
    "{\n",
    "    def sum (a: Int, b: Int): Int = a + b\n",
    "    def mul (a: Int, b: Int): Int = a * b\n",
    "    def div (a: Int, b: Int): Int = a / b\n",
    "    def sub (a: Int, b: Int): Int = a - b\n",
    "\n",
    "    def execute(f:(Int, Int) => Int, a:Int, b:Int)= f(a,b)\n",
    "\n",
    "    println(s\"Sum Operation : ${execute(sum,2,1)}\")\n",
    "    println(s\"Mul Operation : ${execute(mul,2,3)}\")\n",
    "    println(s\"Div Operation : ${execute(div,6,2)}\")\n",
    "    println(s\"Sub Operation : ${execute(sub,10,2)}\")\n",
    "    println(s\"Sum Operation : ${execute((a,b)=> a+b,10,9)}\")\n",
    "}"
   ]
  },
  {
   "cell_type": "code",
   "execution_count": null,
   "metadata": {
    "code_folding": []
   },
   "outputs": [],
   "source": [
    "//Example Two (uses filter, map and reduce)\n",
    "\n",
    "{\n",
    "\n",
    "    //let us find the sum of all numbers given to us\n",
    "    def sumAll (mylist:List[Int]) : Any = {var sum = 0; mylist.foreach(sum += _); sum}\n",
    "    sumAll(List(1,2,3))\n",
    "\n",
    "    def sumEven(mylist:List[Int]) : Any = \n",
    "    {var sum = 0; mylist.foreach{x => if (x % 2 == 0) sum += x};sum}\n",
    "    sumEven(List(1,2,3))\n",
    "    \n",
    "    def sumOdd(mylist:List[Int]) : Any = mylist.filter(_%2 != 0).sum\n",
    "    sumOdd(List(1,2,3))\n",
    "    \n",
    "    \n",
    "    def revSortList(mylist:List[Int]):Any = mylist.sortWith(_>_)\n",
    "    \n",
    "    def doubleElements(mylist:List[Int]):Any = mylist.map(_*2).sum \n",
    "    \n",
    "    def sumAlternateImp(mylist:List[Int]):Any = mylist.reduce((a,e)=>a+e)\n",
    "    \n",
    "    def multiFunc(myList:List[Int],t:(List[Int]=>Any)) = t(myList)\n",
    "    \n",
    "    println(multiFunc(List(1,2,3),sumOdd))\n",
    "    println(multiFunc(List(1,2,3),sumEven))\n",
    "    println(multiFunc(List(1,2,3),sumAll))\n",
    "    println(multiFunc(List(1,2,3),revSortList))\n",
    "    println(multiFunc(List(1,2,3),doubleElements))\n",
    "    println(multiFunc(List(1,2,3),sumAlternateImp))\n",
    "    \n",
    "    val newList = List(1,2,3)\n",
    "    println(multiFunc(newList,(newList => newList.filter(_%2!=0).sum)))\n",
    "    \n",
    "    \n",
    "}"
   ]
  },
  {
   "cell_type": "code",
   "execution_count": null,
   "metadata": {
    "code_folding": [
     0
    ]
   },
   "outputs": [],
   "source": [
    "//Word Count in Scala\n",
    "\n",
    "{\n",
    "    import scala.collection.mutable.ArrayBuffer\n",
    "    \n",
    "        val myFile = List( \n",
    "    \"Exception: IndexOutOfBounds\",\n",
    "    \"Exception: File Not Found\",\n",
    "    \"Exception: Insufficient Memory\",\n",
    "    \"Warning: Using an old library\",\n",
    "    \"Warning: Unused Variable\"\n",
    "    )\n",
    "\n",
    "        val test = myFile\n",
    "        .flatMap(line => line.split(\" \"))\n",
    "        .map{d => (d,1)}\n",
    "        .groupBy(_._1) //gets you a map collection\n",
    "        .mapValues(list=>{list.map(_._2).sum})\n",
    "\n",
    "        print(test)\n",
    "\n",
    "\n",
    "    // A map on the list above\n",
    "    //You end up getting a list of arrays\n",
    "    val testList = myFile.map(l => l.split(\",\"))\n",
    "    println(testList.foreach(l => println(l.mkString(\" \"))))\n",
    "\n",
    "    \n",
    "    //illustrating mapValues function\n",
    "    val myMap = Map(('a',10),('b',11))\n",
    "    val mynewMap = myMap.mapValues(_*2)\n",
    "    println(mynewMap)\n",
    "    \n",
    "\n",
    "\n",
    "    //https://stackoverflow.com/questions/4386127/what-is-the-formal-difference-in-scala-between-braces-and-parentheses-and-when\n",
    "    //You could do \n",
    "    //val test = myFile.map(line => line.split(\"\\n\")(0)) \n",
    "    //also val test = myFile.map{line => line.split(\"\\n\")(0)}\n",
    "    //Note the use of () in first and {} in second for the map function\n",
    "    \n",
    "}"
   ]
  },
  {
   "cell_type": "markdown",
   "metadata": {},
   "source": [
    "### Nested Functions"
   ]
  },
  {
   "cell_type": "code",
   "execution_count": null,
   "metadata": {
    "code_folding": []
   },
   "outputs": [],
   "source": [
    "//function within a function\n",
    "\n",
    "{\n",
    "    \n",
    "    def genRandNum1(a:Int) = {\n",
    "        val r = scala.util.Random\n",
    "        r.nextInt(a)\n",
    "    }\n",
    "    \n",
    "    genRandNum1(100)\n",
    "    \n",
    "    /*\n",
    "        \n",
    "    def genRandNum = {\n",
    "        def genRandNum(a:Int) : Int= {\n",
    "            val r = scala.util.Random\n",
    "            r.nextInt(a)\n",
    "        }\n",
    "        genRandNum(100)\n",
    "    }\n",
    "\n",
    "\n",
    "    //genRandNum\n",
    "    */\n",
    "}"
   ]
  },
  {
   "cell_type": "markdown",
   "metadata": {},
   "source": [
    "### Calling by name and calling by value\n",
    "+ The figure below taken from Martin Odersky Coursera course"
   ]
  },
  {
   "attachments": {
    "image.png": {
     "image/png": "[encoded data removed]"
    }
   },
   "cell_type": "markdown",
   "metadata": {},
   "source": [
    "![image.png](attachment:image.png)"
   ]
  },
  {
   "cell_type": "code",
   "execution_count": null,
   "metadata": {
    "code_folding": []
   },
   "outputs": [],
   "source": [
    "//A call-by-name mechanism passes a code block to the call and each time the call accesses \n",
    "//the parameter, the code block is executed and the value is calculated.   \n",
    "\n",
    "{\n",
    "\n",
    "    def time() : Long ={\n",
    "     println(\"in time function.....\")\n",
    "     return System.nanoTime()\n",
    "   }\n",
    "    \n",
    "   def exec(t: => Long) : Unit = {\n",
    "     println(\"Enter the exec function\")\n",
    "     println(\"Time :\" +t)\n",
    "     println(\"calling t again\")\n",
    "     println(\"Time :\" +t)\n",
    "   }\n",
    "\n",
    "    exec(time())\n",
    "}"
   ]
  },
  {
   "cell_type": "code",
   "execution_count": null,
   "metadata": {
    "code_folding": []
   },
   "outputs": [],
   "source": [
    "//call by value\n",
    "\n",
    "{\n",
    "\n",
    "    def time() : Long ={\n",
    "        println(\"in time function.....\")\n",
    "        return System.nanoTime()\n",
    "   }\n",
    "    \n",
    "   def exec(t: Long) = {\n",
    "     println(\"Enter the exec function\")\n",
    "     println(\"Time :\" +t)\n",
    "     println(\"calling t again\")\n",
    "     println(\"Time :\" +t)\n",
    "   }\n",
    "    \n",
    "   exec(time())\n",
    "\n",
    "}"
   ]
  },
  {
   "cell_type": "markdown",
   "metadata": {},
   "source": [
    "## Exception Handling"
   ]
  },
  {
   "cell_type": "code",
   "execution_count": null,
   "metadata": {
    "code_folding": []
   },
   "outputs": [],
   "source": [
    "//Exception Handling \n",
    "\n",
    "{\n",
    "    import scala.io.Source\n",
    "    import java.io.{FileNotFoundException, IOException}\n",
    "\n",
    "    //val filename = \"input.txt\"\n",
    "    val filename = \"populationByCountry.txt\"\n",
    "    try {\n",
    "        for (line <- Source.fromFile(filename).getLines) {\n",
    "            println(line)\n",
    "            \n",
    "        val r = 10/1\n",
    "            \n",
    "        val p = Array(1,2)\n",
    "            p(10)\n",
    "            \n",
    "            \n",
    "        }\n",
    "    } catch {\n",
    "        case e: FileNotFoundException => println(\"Couldn't find that file.\")\n",
    "        case e: IOException => println(\"Got an IOException!\")\n",
    "        case e: Exception => println(s\"custom Error: $e\")\n",
    "    }\n",
    "    finally {\n",
    "        printf(\"Exiting...\")\n",
    "    }\n",
    "}\n",
    "\n",
    "//There are other techniques in Scala that are available in Scala\n",
    "//this section was to touch upon Exception Handling - please refer to official docs\n",
    "//for more info"
   ]
  },
  {
   "cell_type": "markdown",
   "metadata": {},
   "source": [
    "## Objects and Classes"
   ]
  },
  {
   "cell_type": "code",
   "execution_count": null,
   "metadata": {
    "code_folding": [
     1
    ]
   },
   "outputs": [],
   "source": [
    "//demonstrate this inside Intellij\n",
    "{\n",
    "\n",
    "    object a_helloWorld {\n",
    "      def main(): Unit = {\n",
    "        println(\"Hello World!\")\n",
    "      }\n",
    "    }\n",
    "\n",
    "    a_helloWorld.main()\n",
    "}"
   ]
  },
  {
   "cell_type": "markdown",
   "metadata": {},
   "source": [
    "### Instantiating a class and calling methods"
   ]
  },
  {
   "cell_type": "code",
   "execution_count": null,
   "metadata": {
    "code_folding": [
     0
    ]
   },
   "outputs": [],
   "source": [
    "{\n",
    "\n",
    "    //variables passed are \"val\" - by default\n",
    "class point(xc: Int, yc: Int) {\n",
    "  var x: Int = xc\n",
    "  var y: Int = yc\n",
    "\n",
    "  println(\"This is getting called!\")  \n",
    "    \n",
    "  def move(dx: Int, dy: Int) {\n",
    "    x = x + dx\n",
    "    y = y + dy\n",
    "    println (\"Point x location : \" + x)\n",
    "    println (\"Point y location : \" + y)\n",
    "  }\n",
    "}\n",
    "\n",
    "val pointOne = new point(1,2)\n",
    "pointOne.move(1,2)\n",
    "pointOne.move(2,3)\n",
    "    \n",
    "val pointTwo = new point(3,4)\n",
    "  \n",
    "//this fails!    \n",
    "//val pointThree = new point()\n",
    "}"
   ]
  },
  {
   "cell_type": "code",
   "execution_count": null,
   "metadata": {
    "code_folding": [
     1
    ]
   },
   "outputs": [],
   "source": [
    "//trying with \"var\" as class variables\n",
    "{\n",
    "    \n",
    "class point(var xc: Int, var yc: Int) {\n",
    "  \n",
    "  println(\"This is getting called!\")  \n",
    "    \n",
    "  def move(dx: Int, dy: Int) {\n",
    "    xc = xc + dx\n",
    "    yc = yc + dy\n",
    "    println (\"Point x location : \" + xc)\n",
    "    println (\"Point y location : \" + yc)\n",
    "  }\n",
    "}\n",
    "\n",
    "val pointOne = new point(1,2)\n",
    "pointOne.move(1,2)\n",
    "pointOne.move(2,3)\n",
    "    \n",
    "val pointTwo = new point(3,4)\n",
    "  \n",
    "//this fails!    \n",
    "//val pointThree = new point()\n",
    "}"
   ]
  },
  {
   "cell_type": "code",
   "execution_count": null,
   "metadata": {
    "code_folding": [
     2
    ]
   },
   "outputs": [],
   "source": [
    "//What if you wanted the point to be at the origin?\n",
    "\n",
    "{\n",
    "class point2(xc: Int, yc: Int) {\n",
    "  var x: Int = xc\n",
    "  var y: Int = yc\n",
    "\n",
    "  def this()\n",
    "  {\n",
    "    this(0,0)\n",
    "  }\n",
    "\n",
    "  def this(xc:Int)\n",
    "  {\n",
    "    this(xc,0) //defaulting only yc\n",
    "  }\n",
    "\n",
    "  def move(dx: Int, dy: Int) {\n",
    "    x = x + dx\n",
    "    y = y + dy\n",
    "    println (\"Point x location : \" + x)\n",
    "    println (\"Point y location : \" + y)\n",
    "  }\n",
    "}\n",
    "\n",
    "    val pointOne = new point2(1,2)\n",
    "    pointOne.move(1,2)\n",
    "\n",
    "  //Initializing with no parameters (defaults to 2,4)\n",
    "  val pointTwo = new point2()\n",
    "  pointTwo.move(1,2)\n",
    "\n",
    "  //Initializing with only one (yc defaults to 0)\n",
    "  val pointThree = new point2(1)\n",
    "  pointThree.move(1,2)\n",
    "}"
   ]
  },
  {
   "cell_type": "code",
   "execution_count": null,
   "metadata": {
    "code_folding": [
     0
    ]
   },
   "outputs": [],
   "source": [
    "{\n",
    "    \n",
    "    class point(xc: Int = 2, yc: Int= 4)\n",
    "    {\n",
    "      var x: Int = xc\n",
    "      var y: Int = yc\n",
    "\n",
    "      def move(dx: Int, dy: Int) {\n",
    "        x = x + dx\n",
    "        y = y + dy\n",
    "        println (\"Point x location : \" + x);\n",
    "        println (\"Point y location : \" + y);\n",
    "      }\n",
    "    }\n",
    "    \n",
    "    val firstPoint = new point(1,2)\n",
    "    firstPoint.move(1,2)\n",
    "\n",
    "    val secondPoint = new point() //initialized to 2,4 default values\n",
    "    secondPoint.move(1,2)\n",
    "\n",
    "    val thirdPoint = new point(4) //passing only xc\n",
    "    thirdPoint.move(1,2)\n",
    "\n",
    "    val newPoint2 = new point(yc = 6) //can default xc here and pass yc\n",
    "    newPoint2.move(1,2)\n",
    "    \n",
    "}"
   ]
  },
  {
   "cell_type": "code",
   "execution_count": null,
   "metadata": {},
   "outputs": [],
   "source": [
    "//interesting reading\n",
    "//How to make a class private so it cannot be created from the main function!\n",
    "//https://stackoverflow.com/questions/1730536/private-and-protected-constructor-in-scala\n",
    "\n",
    "//Which of the two is preferred: Using class parameters or fields?\n",
    "//https://stackoverflow.com/questions/4850295/scala-instance-variables-best-practice"
   ]
  },
  {
   "cell_type": "markdown",
   "metadata": {},
   "source": [
    "\n",
    "### Companion Objects"
   ]
  },
  {
   "cell_type": "code",
   "execution_count": null,
   "metadata": {
    "code_folding": [
     0,
     2
    ]
   },
   "outputs": [],
   "source": [
    "//separation of concerns\n",
    "\n",
    "{\n",
    "    class countClassInstances {\n",
    "      countClassInstances.count += 1\n",
    "      println(\"Class Created!\")\n",
    "    }\n",
    "\n",
    "    object countClassInstances {\n",
    "      var count = 0\n",
    "    }\n",
    "\n",
    "    val inst1 = new countClassInstances\n",
    "    println(countClassInstances.count)\n",
    "    val inst2 = new countClassInstances\n",
    "    println(countClassInstances.count)\n",
    "    val inst3 = new countClassInstances\n",
    "    println(countClassInstances.count)\n",
    "\n",
    "}"
   ]
  },
  {
   "cell_type": "code",
   "execution_count": null,
   "metadata": {
    "code_folding": [
     0
    ]
   },
   "outputs": [],
   "source": [
    "{\n",
    "    object companionObject {\n",
    "\n",
    "      def testFunction(): Unit = {\n",
    "        println(\"This is in the test function of the companion object\")\n",
    "      }\n",
    "\n",
    "      private def privateFunction(): Unit = {\n",
    "        println(\"This function is inside the companion object and is declared private\")\n",
    "      }\n",
    "\n",
    "      //access a private function inside of a class - with an \"instance variable\"\n",
    "      def myFunc(f:companionObject) = {\n",
    "        f.funcPrivateToClass()\n",
    "      }\n",
    "    }\n",
    "\n",
    "    class companionObject {\n",
    "      val testVariable = 10;\n",
    "\n",
    "      def testFunc(): Unit = {\n",
    "        println(\"I am in the test function of the class sampleobject\")\n",
    "        companionObject.testFunction()\n",
    "\n",
    "        //can call private methods of companion object from class - no problems!\n",
    "        companionObject.privateFunction()\n",
    "      }\n",
    "\n",
    "      def funcInsideClass(): Unit = {\n",
    "        println(\"This is a function inside the class!\")\n",
    "      }\n",
    "\n",
    "      private def funcPrivateToClass(): Unit = {\n",
    "        println(\"Private function inside the class!\")\n",
    "      }\n",
    "    }\n",
    "\n",
    "\n",
    "\n",
    "  println(\"I am in main\")\n",
    "  val cobj = new companionObject\n",
    "  cobj.funcInsideClass() //calling function within a class\n",
    "  cobj.testFunc()\n",
    "  //directly calling a function in the object (without instantiating a class)\n",
    "  companionObject.testFunction()\n",
    "  //companionObject.privateFunction() //NOT ALLOWED\n",
    "  println(\"I am done calling the test function\")\n",
    "  companionObject.myFunc(cobj)\n",
    "}"
   ]
  },
  {
   "cell_type": "markdown",
   "metadata": {},
   "source": [
    "### Inheritance"
   ]
  },
  {
   "cell_type": "code",
   "execution_count": null,
   "metadata": {
    "code_folding": [
     0
    ]
   },
   "outputs": [],
   "source": [
    "{\n",
    "    \n",
    "    class person {\n",
    "        def personalInfo {println (\"Name,Age,Location,City,Marital Status\")}\n",
    "    }\n",
    "    \n",
    "    //a class can inherit from only one super class\n",
    "    class employee extends person {\n",
    "        def employeeInfo {println(\"EmpId, DeptId, DateOfJoining, Designation\")}\n",
    "        \n",
    "        //look at the override modifier\n",
    "        override def personalInfo {println (\"SpouseName, NumberOfKids\");super.personalInfo}\n",
    "    }\n",
    "    \n",
    "    val pObj = new person\n",
    "    pObj.personalInfo\n",
    "    \n",
    "    println\n",
    "    \n",
    "    val eObj = new employee\n",
    "    eObj.personalInfo\n",
    "    println\n",
    "    eObj.employeeInfo\n",
    "    \n",
    "    println\n",
    "    \n",
    "}\n",
    "\n",
    "//You can refer to this article to see how to pass paramters \n",
    "//https://alvinalexander.com/scala/how-to-declare-constructor-parameters-extending-scala-class"
   ]
  },
  {
   "cell_type": "markdown",
   "metadata": {},
   "source": [
    "### Abstract Classes"
   ]
  },
  {
   "cell_type": "code",
   "execution_count": null,
   "metadata": {
    "code_folding": [
     0
    ]
   },
   "outputs": [],
   "source": [
    "{\n",
    "    abstract class shape {\n",
    "        def area {println(\"This is the base class!\")}\n",
    "        def sides\n",
    "    }\n",
    "\n",
    "    class circle (rad:Int) extends shape {\n",
    "        \n",
    "        //note the override keyword - area is implemented in base\n",
    "        override def area {println(s\"This is the area of a circle: ${rad*rad}\")}\n",
    "        \n",
    "        //The absence of the override keyword for this function\n",
    "        def sides {println(\"No sides for a circle\")}\n",
    "    }\n",
    "\n",
    "    class rectangle(length:Int,width:Int) extends shape{\n",
    "        \n",
    "        //it is alright to comment this out!  base class func implemented\n",
    "        //def area {println(s\"This is the area of a rectangle: ${length*width}\")}\n",
    "        \n",
    "        //The absence of the override keyword - but, the function should be implemented\n",
    "        def sides {println(\"A rectangle has two sides\")}\n",
    "    }\n",
    "    \n",
    "    //the class is declared as abstract as it does not implement \"sides\"\n",
    "    abstract class square(length:Int) extends shape {\n",
    "        override def area {println(\"The area of the square is: {length * length}\")}\n",
    "    }\n",
    "    \n",
    "    class squaresides(length:Int) extends shape {\n",
    "        override def area {println(s\"The area of the square is: ${length * length}\")}\n",
    "        def sides {println{\"The sides of a square are equal\"}}\n",
    "    }\n",
    "    \n",
    "    //cannot do this!\n",
    "    //val sObj = new shape()\n",
    "    //sObj.area\n",
    "\n",
    "    //let us create a circle\n",
    "    val cObj = new circle(8)\n",
    "    cObj.area\n",
    "    cObj.sides\n",
    "\n",
    "    //let us create a rectangle\n",
    "    val rObj = new rectangle(7,8)\n",
    "    rObj.area\n",
    "    rObj.sides\n",
    "    \n",
    "    //let us try to instantiate an object of class square (note this is abstract)\n",
    "    //val sObj = new square(8) //Not allowed again!\n",
    "    \n",
    "    val ssObj = new squaresides(9)\n",
    "    ssObj.sides\n",
    "    ssObj.area\n",
    "}"
   ]
  },
  {
   "cell_type": "markdown",
   "metadata": {},
   "source": [
    "### Traits\n",
    "+ Just like an abstract class - but, allows a class to inherit from more than one trait\n",
    "+ Does not have constructor parameters\n",
    "+ Dont use it if you want to inherit this in java code \n",
    "+ Yes.. scala from java is possible (https://lampwww.epfl.ch/~michelou/scala/using-scala-from-java.html)\n",
    "+ If behavior is going to be reused across multiple classes, go for traits"
   ]
  },
  {
   "cell_type": "code",
   "execution_count": null,
   "metadata": {
    "code_folding": [
     0
    ]
   },
   "outputs": [],
   "source": [
    "{\n",
    "    \n",
    "trait calculator {\n",
    "  def add(numbers:Int*):Int\n",
    "  def sub(numbers:Int*):Int\n",
    "  def mul(numbers:Int*):Int\n",
    "  def div(numbers:Int*):Int\n",
    "}\n",
    "\n",
    "class calc extends calculator {\n",
    "  def add(numbers:Int*) :Int = numbers.sum\n",
    "  def sub(numbers:Int*): Int = numbers.reduce(_ - _)\n",
    "  def mul(numbers:Int*): Int = numbers.product\n",
    "  def div(numbers:Int*): Int = numbers.reduce(_ / _)\n",
    "}\n",
    "\n",
    "trait sciCalc {\n",
    "  def log(number:Int):Double //= java.lang.Math.log(number)\n",
    "  def pow(base:Int, exponent:Int):Double = java.lang.Math.pow(base,exponent)\n",
    "  def sqrt(number:Int):Double = java.lang.Math.sqrt(number)\n",
    "}\n",
    "\n",
    "class casio extends calc with sciCalc{\n",
    "  def log(number:Int): Double = java.lang.Math.log(number)\n",
    "}\n",
    "\n",
    "    val calcObj = new calc\n",
    "    println(s\"Result of Add Operation: ${calcObj.add(1,2,3,4)}\")\n",
    "    println(s\"Result of Sub Operation: ${calcObj.sub(10,2)}\")\n",
    "    println(s\"Result of Mul Operation: ${calcObj.mul(10,2,5)}\")\n",
    "    println(s\"Result of Div Operation: ${calcObj.div(10,2,5)}\")\n",
    "\n",
    "    println\n",
    "    \n",
    "    val fx100 = new casio\n",
    "    println(s\"Result of Add Operation: ${fx100.add(1,2,3,4)}\")\n",
    "    println(s\"Result of Sub Operation: ${fx100.sub(10,2)}\")\n",
    "    println(s\"Result of Mul Operation: ${fx100.mul(10,2,5)}\")\n",
    "    println(s\"Result of Div Operation: ${fx100.div(10,2,5)}\")\n",
    "    println(s\"Result of Log Operation: ${fx100.log(10)}\")\n",
    "    println(s\"Result of Pow Operation: ${fx100.pow(2,3)}\")\n",
    "    println(s\"Result of Sqrt Operation: ${fx100.sqrt(16)}\")\n",
    "}"
   ]
  },
  {
   "cell_type": "markdown",
   "metadata": {},
   "source": [
    "### Multiple Inheritance"
   ]
  },
  {
   "cell_type": "code",
   "execution_count": null,
   "metadata": {
    "code_folding": [
     0
    ]
   },
   "outputs": [],
   "source": [
    "{\n",
    "    trait base{\n",
    "      def basefunc: Unit = {println(\"I am the parent\")}\n",
    "    }\n",
    "\n",
    "    trait childOne extends base {\n",
    "      override def basefunc: Unit = {\n",
    "        println(\"I am child One\");\n",
    "        //super.basefunc;\n",
    "      }\n",
    "    }\n",
    "\n",
    "    trait childTwo extends base {\n",
    "      override def basefunc: Unit = {\n",
    "        println(\"I am child Two\");\n",
    "        //super.basefunc;\n",
    "      }\n",
    "    }\n",
    "\n",
    "    class familyOne extends childOne with childTwo \n",
    "\n",
    "    class familyTwo extends childTwo with childOne \n",
    "\n",
    "    val robFamily = new familyOne\n",
    "    robFamily.basefunc;\n",
    "\n",
    "    val bobFamily = new familyTwo\n",
    "    bobFamily.basefunc;\n",
    "}"
   ]
  }
 ],
 "metadata": {
  "kernelspec": {
   "display_name": "Apache Toree - Scala",
   "language": "scala",
   "name": "apache_toree_scala"
  },
  "language_info": {
   "codemirror_mode": "text/x-scala",
   "file_extension": ".scala",
   "mimetype": "text/x-scala",
   "name": "scala",
   "pygments_lexer": "scala",
   "version": "2.11.8"
  },
  "toc": {
   "base_numbering": 1,
   "nav_menu": {},
   "number_sections": true,
   "sideBar": true,
   "skip_h1_title": false,
   "title_cell": "Table of Contents",
   "title_sidebar": "Contents",
   "toc_cell": false,
   "toc_position": {
    "height": "calc(100% - 180px)",
    "left": "10px",
    "top": "150px",
    "width": "309px"
   },
   "toc_section_display": true,
   "toc_window_display": true
  }
 },
 "nbformat": 4,
 "nbformat_minor": 2
}
